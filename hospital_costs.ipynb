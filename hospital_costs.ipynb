{
 "cells": [
  {
   "cell_type": "markdown",
   "id": "36f1b9c9",
   "metadata": {},
   "source": [
    "# Hospital Costs"
   ]
  },
  {
   "cell_type": "code",
   "execution_count": 2,
   "id": "44e8e572",
   "metadata": {},
   "outputs": [],
   "source": [
    "import numpy as np\n",
    "import matplotlib.pyplot as plt\n",
    "import fitdist as fd"
   ]
  },
  {
   "cell_type": "markdown",
   "id": "3fbeb3a8",
   "metadata": {},
   "source": [
    "## \"Raw\" Data"
   ]
  },
  {
   "cell_type": "code",
   "execution_count": 3,
   "id": "d992896b",
   "metadata": {},
   "outputs": [
    {
     "name": "stdout",
     "output_type": "stream",
     "text": [
      "Cost = [50.40641, 60.06087, 68.79144000000001, 77.88305, 83.40191, 101.28171, 116.12446000000001]\n",
      "Freq = [17, 39, 16, 38, 54, 17, 13]\n"
     ]
    }
   ],
   "source": [
    "charges = [50406.41, 60060.87, 68791.44, 77883.05, 83401.91, 101281.71, 116124.46]\n",
    "cost = list(map(lambda x: x / 1000, charges))\n",
    "\n",
    "freq = [17, 39, 16, 38, 54, 17, 13]\n",
    "\n",
    "print(f\"Cost = {cost}\")  # In units of $1000\n",
    "print(f\"Freq = {freq}\")"
   ]
  },
  {
   "cell_type": "markdown",
   "id": "67550df1",
   "metadata": {},
   "source": [
    "#### Differences between successive costs (out of curiosity)"
   ]
  },
  {
   "cell_type": "code",
   "execution_count": 4,
   "id": "8c14a77e",
   "metadata": {},
   "outputs": [
    {
     "name": "stdout",
     "output_type": "stream",
     "text": [
      "[ 9.65446  8.73057  9.09161  5.51886 17.8798  14.84275]\n"
     ]
    }
   ],
   "source": [
    "print(np.ediff1d(np.array(cost)))"
   ]
  },
  {
   "cell_type": "markdown",
   "id": "2a660686",
   "metadata": {},
   "source": [
    "## Plot of \"Raw\" Data"
   ]
  },
  {
   "cell_type": "code",
   "execution_count": 5,
   "id": "9bd2734b",
   "metadata": {},
   "outputs": [
    {
     "data": {
      "image/png": "[encoded data removed]",
      "text/plain": [
       "<Figure size 432x288 with 1 Axes>"
      ]
     },
     "metadata": {
      "needs_background": "light"
     },
     "output_type": "display_data"
    }
   ],
   "source": [
    "fig, ax = plt.subplots()\n",
    "\n",
    "ax.set_xlabel('Cost in $1000 Units')\n",
    "ax.set_ylabel('Count')\n",
    "ax.set_title('Hospital Costs')\n",
    "_ = ax.stem(cost, freq)"
   ]
  },
  {
   "cell_type": "markdown",
   "id": "7e611a17",
   "metadata": {},
   "source": [
    "## Expanded Data"
   ]
  },
  {
   "cell_type": "code",
   "execution_count": 6,
   "id": "6da31dbd",
   "metadata": {},
   "outputs": [],
   "source": [
    "def fill_list(pair):\n",
    "    \"e.g., fill_list((3, 5)) returns [5, 5, 5]\"\n",
    "    return [pair[1]] * pair[0]"
   ]
  },
  {
   "cell_type": "code",
   "execution_count": 7,
   "id": "e8092c5e",
   "metadata": {},
   "outputs": [
    {
     "name": "stdout",
     "output_type": "stream",
     "text": [
      "194 Data Points:\n",
      "\n",
      "[50.40641, 50.40641, 50.40641, 50.40641, 50.40641, 50.40641, 50.40641, 50.40641, 50.40641, 50.40641, 50.40641, 50.40641, 50.40641, 50.40641, 50.40641, 50.40641, 50.40641, 60.06087, 60.06087, 60.06087, 60.06087, 60.06087, 60.06087, 60.06087, 60.06087, 60.06087, 60.06087, 60.06087, 60.06087, 60.06087, 60.06087, 60.06087, 60.06087, 60.06087, 60.06087, 60.06087, 60.06087, 60.06087, 60.06087, 60.06087, 60.06087, 60.06087, 60.06087, 60.06087, 60.06087, 60.06087, 60.06087, 60.06087, 60.06087, 60.06087, 60.06087, 60.06087, 60.06087, 60.06087, 60.06087, 60.06087, 68.79144000000001, 68.79144000000001, 68.79144000000001, 68.79144000000001, 68.79144000000001, 68.79144000000001, 68.79144000000001, 68.79144000000001, 68.79144000000001, 68.79144000000001, 68.79144000000001, 68.79144000000001, 68.79144000000001, 68.79144000000001, 68.79144000000001, 68.79144000000001, 77.88305, 77.88305, 77.88305, 77.88305, 77.88305, 77.88305, 77.88305, 77.88305, 77.88305, 77.88305, 77.88305, 77.88305, 77.88305, 77.88305, 77.88305, 77.88305, 77.88305, 77.88305, 77.88305, 77.88305, 77.88305, 77.88305, 77.88305, 77.88305, 77.88305, 77.88305, 77.88305, 77.88305, 77.88305, 77.88305, 77.88305, 77.88305, 77.88305, 77.88305, 77.88305, 77.88305, 77.88305, 77.88305, 83.40191, 83.40191, 83.40191, 83.40191, 83.40191, 83.40191, 83.40191, 83.40191, 83.40191, 83.40191, 83.40191, 83.40191, 83.40191, 83.40191, 83.40191, 83.40191, 83.40191, 83.40191, 83.40191, 83.40191, 83.40191, 83.40191, 83.40191, 83.40191, 83.40191, 83.40191, 83.40191, 83.40191, 83.40191, 83.40191, 83.40191, 83.40191, 83.40191, 83.40191, 83.40191, 83.40191, 83.40191, 83.40191, 83.40191, 83.40191, 83.40191, 83.40191, 83.40191, 83.40191, 83.40191, 83.40191, 83.40191, 83.40191, 83.40191, 83.40191, 83.40191, 83.40191, 83.40191, 83.40191, 101.28171, 101.28171, 101.28171, 101.28171, 101.28171, 101.28171, 101.28171, 101.28171, 101.28171, 101.28171, 101.28171, 101.28171, 101.28171, 101.28171, 101.28171, 101.28171, 101.28171, 116.12446000000001, 116.12446000000001, 116.12446000000001, 116.12446000000001, 116.12446000000001, 116.12446000000001, 116.12446000000001, 116.12446000000001, 116.12446000000001, 116.12446000000001, 116.12446000000001, 116.12446000000001, 116.12446000000001]\n"
     ]
    }
   ],
   "source": [
    "pairs = list(zip(freq, cost))\n",
    "list_of_lists = list(map(fill_list, pairs))\n",
    "data = list(np.concatenate(list_of_lists).flat)  # flattened list of lists\n",
    "\n",
    "print(f\"{len(data)} Data Points:\\n\")\n",
    "print(data)"
   ]
  },
  {
   "cell_type": "markdown",
   "id": "d327ff38",
   "metadata": {},
   "source": [
    "## Find Best Fit Distribution to Expanded Data"
   ]
  },
  {
   "cell_type": "code",
   "execution_count": 9,
   "id": "c7c7cc06",
   "metadata": {},
   "outputs": [],
   "source": [
    "import warnings\n",
    "warnings.filterwarnings('ignore')"
   ]
  },
  {
   "cell_type": "code",
   "execution_count": 10,
   "id": "a0eeb2b4",
   "metadata": {},
   "outputs": [
    {
     "data": {
      "text/plain": [
       "[]"
      ]
     },
     "execution_count": 10,
     "metadata": {},
     "output_type": "execute_result"
    }
   ],
   "source": [
    "# The drop list contains the names of distributions that cause the optimizer to crash, or go into a neverending loop.\n",
    "drop_list = ['kstwo',\n",
    "             'levy_stable',\n",
    "             'studentized_range'\n",
    "            ]\n",
    "\n",
    "fd.find_best_fit_distributions(data, dist_names=fd.cont_dist_names, drop_dist_names=drop_list)"
   ]
  },
  {
   "cell_type": "markdown",
   "id": "c3340fd4",
   "metadata": {},
   "source": [
    "<b>NOTE: The empty list, output above, means that no distributions passed the KS Goodness-of-Fit test at a value above the threshold (default 0.10)</b>"
   ]
  },
  {
   "cell_type": "markdown",
   "id": "2abb8d2b",
   "metadata": {},
   "source": [
    "See [this comment](https://stackoverflow.com/questions/51604797/error-when-fitting-the-scipy-stats-erlang-distribution) regarding error messages when fitting the Erlang distribution.  Use Gamma distribution instead."
   ]
  }
 ],
 "metadata": {
  "kernelspec": {
   "display_name": "Python 3",
   "language": "python",
   "name": "python3"
  },
  "language_info": {
   "codemirror_mode": {
    "name": "ipython",
    "version": 3
   },
   "file_extension": ".py",
   "mimetype": "text/x-python",
   "name": "python",
   "nbconvert_exporter": "python",
   "pygments_lexer": "ipython3",
   "version": "3.7.7"
  }
 },
 "nbformat": 4,
 "nbformat_minor": 5
}
